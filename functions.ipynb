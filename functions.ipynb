{
 "cells": [
  {
   "cell_type": "code",
   "execution_count": 1,
   "id": "710cb55a",
   "metadata": {},
   "outputs": [],
   "source": [
    "# w pythonie tworzomy funkcje przez zastosowanie slowa kluczowego def [spacja] nazwa_funkcji[:]\n",
    "# ten : za nazwą funkcji jest ważny"
   ]
  },
  {
   "cell_type": "code",
   "execution_count": 2,
   "id": "2e9829b3",
   "metadata": {},
   "outputs": [],
   "source": [
    "###Potem przechodzimy do nowej linii i robimy jedno wcięcie\n"
   ]
  },
  {
   "cell_type": "code",
   "execution_count": null,
   "id": "fa908b9f",
   "metadata": {},
   "outputs": [],
   "source": []
  }
 ],
 "metadata": {
  "kernelspec": {
   "display_name": "Python 3 (ipykernel)",
   "language": "python",
   "name": "python3"
  },
  "language_info": {
   "codemirror_mode": {
    "name": "ipython",
    "version": 3
   },
   "file_extension": ".py",
   "mimetype": "text/x-python",
   "name": "python",
   "nbconvert_exporter": "python",
   "pygments_lexer": "ipython3",
   "version": "3.9.5"
  }
 },
 "nbformat": 4,
 "nbformat_minor": 5
}
